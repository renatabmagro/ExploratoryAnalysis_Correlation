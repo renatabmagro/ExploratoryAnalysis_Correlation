{
  "nbformat": 4,
  "nbformat_minor": 0,
  "metadata": {
    "colab": {
      "provenance": [],
      "collapsed_sections": [],
      "authorship_tag": "ABX9TyM8UDK6LrwaPVrEC90Fvblp",
      "include_colab_link": true
    },
    "kernelspec": {
      "name": "ir",
      "display_name": "R"
    },
    "language_info": {
      "name": "R"
    }
  },
  "cells": [
    {
      "cell_type": "markdown",
      "metadata": {
        "id": "view-in-github",
        "colab_type": "text"
      },
      "source": [
        "<a href=\"https://colab.research.google.com/github/renatabmagro/ExploratoryAnalysis_Correlation/blob/main/ExploratoryAnalysis_Correlation.ipynb\" target=\"_parent\"><img src=\"https://colab.research.google.com/assets/colab-badge.svg\" alt=\"Open In Colab\"/></a>"
      ]
    },
    {
      "cell_type": "markdown",
      "source": [
        "**Script para Análise Exploratória das Variáveis Meteorológicas & Fenologia & Produtividade | Etapa I**"
      ],
      "metadata": {
        "id": "QEAv6khK4WGz"
      }
    },
    {
      "cell_type": "markdown",
      "source": [
        "*Desenvolvido em: Google Colab + Rstudio*"
      ],
      "metadata": {
        "id": "U15B89qtUWrO"
      }
    },
    {
      "cell_type": "markdown",
      "source": [
        "Nesse script estão descritos os procedimentos de leitura, organização e análise dos dados realizados para a construção do artigo de análise exploratória. \n",
        "\n",
        "\n",
        "> A análise exploratória deste script consiste em algumas etapas principais: \n",
        "\n",
        ">> Leitura do bando de dados meteorológicos.\n",
        "\n",
        ">> Teste de normalidade -> escolha do tipo de correlação.\n",
        "\n",
        ">> Seleção e organização dos dados meteorológicos (seleção das variáveis, agrupamento das variáveis).\n",
        "\n",
        ">> Execução das análises de correlação entre os dados meteorológicos e a produtividade do pomar de macieira; e entre os dados meteorológicos e a fenologia floral da macieira. \n",
        " \n",
        "------------------------------------------\n",
        "> As análises foram realizadas em função da configuração dos dados meteorológicos: \n",
        ">> Dados meteorológicos mensais: \n",
        "\n",
        "  - Correlação Início da floração\n",
        "\n",
        "  - Correlação Plena floração\n",
        "\n",
        "  - Correlação Produtividade \n",
        "\n",
        ">> Dados meteorológicos sazonais: \n",
        "\n",
        "  - Correlação Início da floração \n",
        "\n",
        "  - Correlação Plena floração\n",
        "\n",
        "  - Correlação Produtividade \n",
        "\n",
        "\n"
      ],
      "metadata": {
        "id": "pGd4ticJ45YH"
      }
    },
    {
      "cell_type": "code",
      "execution_count": null,
      "metadata": {
        "id": "zkoGqFTWyW9N"
      },
      "outputs": [],
      "source": [
        "# Instalação das bibliotecas \n",
        "\n",
        "install.packages(\"readxl\")\n",
        "library(readxl)\n",
        "install.packages(\"tidyr\")\n",
        "install.packages(\"tidyverse\")\n",
        "library(tidyr)\n",
        "library(tidyverse)\n",
        "install.packages(\"dplyr\")\n",
        "library(dplyr)\n",
        "install.packages(\"corrplot\")\n",
        "library(corrplot)\n",
        "install.packages(\"ggcorrplot\")\n",
        "library(ggcorrplot)\n",
        "install.packages(\"lubridate\")\n",
        "library(lubridate)\n",
        "install.packages(\"ggplot2\")\n",
        "library(ggplot2)\n",
        "install.packages(\"dygraphs\")\n",
        "library(dygraphs)\n",
        "install.packages(\"cowplot\")\n",
        "library(cowplot)\n",
        "install.packages(\"lares\")\n",
        "library(lares)\n",
        "install.packages(\"GGally\")\n",
        "library(GGally)\n",
        "install.packages(\"ggcorrplot\")\n",
        "library(ggcorrplot)"
      ]
    },
    {
      "cell_type": "code",
      "source": [
        "#####################################################################################################"
      ],
      "metadata": {
        "id": "nbU5g0VACvlv"
      },
      "execution_count": null,
      "outputs": []
    },
    {
      "cell_type": "code",
      "source": [
        "# Leitura da planilha de dados - para execução do teste de normalidade \n",
        "dados_clima = read_excel(\"BancoDados_clima.xlsx\") #dados climáticos em frequência diária (2008-2022)"
      ],
      "metadata": {
        "id": "yoEaJS1L9rkI"
      },
      "execution_count": null,
      "outputs": []
    },
    {
      "cell_type": "code",
      "source": [
        "#visualizar a head dos dados climáticos\n",
        "head(dados_clima)"
      ],
      "metadata": {
        "id": "ZtnPZb5WAVxy"
      },
      "execution_count": null,
      "outputs": []
    },
    {
      "cell_type": "code",
      "source": [
        "#visualizar período início-final dos dados\n",
        "range(dados_clima$Data)"
      ],
      "metadata": {
        "id": "4CsjK2poB-5c"
      },
      "execution_count": null,
      "outputs": []
    },
    {
      "cell_type": "code",
      "source": [
        "#remoção coluna de Dia, Mês e Ano\n",
        "dados_clima_ <- select(dados_clima, -Dia, -Mês, -Ano)\n",
        "head(dados_clima_)"
      ],
      "metadata": {
        "id": "MwoAGXKUCL48"
      },
      "execution_count": null,
      "outputs": []
    },
    {
      "cell_type": "code",
      "source": [
        "#duplicando o data frame para conservar os dados originais\n",
        "dados_clima2 <- dados_clima_\n",
        "head(dados_clima2)"
      ],
      "metadata": {
        "id": "Mh0bOu8vCtYx"
      },
      "execution_count": null,
      "outputs": []
    },
    {
      "cell_type": "code",
      "source": [
        "#criar uma coluna de mês e ano no dados_clima2 -> função floor_data (pacote lubridate)\n",
        "dados_clima2$year_month <- floor_date(dados_clima2$Data, \n",
        "                                      \"month\")"
      ],
      "metadata": {
        "id": "0RRaXYm1C8nm"
      },
      "execution_count": null,
      "outputs": []
    },
    {
      "cell_type": "code",
      "source": [
        "#fazer acumulado das variáveis por mês (pacote dplyr)\n",
        "data_aggr <- dados_clima2 %>%\n",
        "  group_by(year_month) %>%\n",
        "  dplyr::summarize(Temp_max = mean(Temp_max), Temp_min = mean(Temp_min), Temp_media = mean(Temp_media),\n",
        "                    Radiacao_acum = mean(Radiacao_acum), Precip = sum(Precip), GD = sum(GD),\n",
        "                    Eto = mean(Eto), HorasFrio = sum(HorasFrio)) %>%\n",
        "                    as.data.frame()"
      ],
      "metadata": {
        "id": "aqjoQJ2ADSzE"
      },
      "execution_count": null,
      "outputs": []
    },
    {
      "cell_type": "code",
      "source": [
        "####################################################################\n",
        "#    Resumo de como os dados foram agregados:\n",
        "##   Tem_max, temp_min, temp_media, radiacao, eto -> média mensal\n",
        "##   Precip, GD, HorasFrio -> soma mensal\n",
        "####################################################################"
      ],
      "metadata": {
        "id": "TZNn6tBbDgpF"
      },
      "execution_count": null,
      "outputs": []
    },
    {
      "cell_type": "code",
      "source": [
        "#remoção da coluna que representa a data (year_month) do dataframe, pois essa não é necessária para executar o teste de normalidade e a análise de correlação\n",
        "data_corrigida <- select(data_aggr, -year_month)"
      ],
      "metadata": {
        "id": "ZN21EGCTDuIi"
      },
      "execution_count": null,
      "outputs": []
    },
    {
      "cell_type": "code",
      "source": [
        "#verificar se existam NAs nos dados\n",
        "is.na(data_corrigida) %>% table()"
      ],
      "metadata": {
        "id": "28VnQv6JIUxV"
      },
      "execution_count": null,
      "outputs": []
    },
    {
      "cell_type": "code",
      "source": [
        "#caso existam, fazer a remoção dos valores NA:\n",
        "# data_corrigida <- na.omit(data_corr) #remoção valores NA"
      ],
      "metadata": {
        "id": "oqAFrYgOIdvN"
      },
      "execution_count": null,
      "outputs": []
    },
    {
      "cell_type": "code",
      "source": [
        "# Teste de normalidade #\n",
        "  ## Realizado o teste de Shapiro-Wilk para verificar se os dados seguem a distribuição normal. \n",
        "  ## Ho: os dados seguem a distribuição normal ; H1: os dados não seguem a distribuição normal. \n",
        "\n",
        "t1=shapiro.test(data_corrigida$Temp_max)\n",
        "t2=shapiro.test(data_corrigida$Temp_min)\n",
        "t3=shapiro.test(data_corrigida$Temp_media)\n",
        "t4=shapiro.test(data_corrigida$Radiacao_acum)\n",
        "t5=shapiro.test(data_corrigida$Precip)\n",
        "t6=shapiro.test(data_corrigida$GD)\n",
        "t7=shapiro.test(data_corrigida$Eto)\n",
        "t8=shapiro.test(data_corrigida$HorasFrio)\n",
        "\n",
        "\n",
        "variavel <- c(data_corrigida$Temp_max, data_corrigida$Temp_min, data_corrigida$Temp_media, data_corrigida$Radiacao_acum, data_corrigida$Precip,\n",
        "              data_corrigida$GD, data_corrigida$Eto, data_corrigida$HorasFrio)\n",
        "\n",
        "valorp <- c(t1$p.value, t2$p.value, t3$p.value, t4$p.value, t5$p.value, t6$p.value, t7$p.value, t8$p.value)\n",
        "\n",
        "resultados <- cbind(valorp)\n",
        "rownames(resultados) <- cbind(\"Temp_max\", \"Temp_min\", \"Temp_media\", \"Radiacao_acum\", \"Precip\", \"GD\", \"Eto\", \"Horas Frio\")\n",
        "print(resultados, digits = 4)\n",
        "\n"
      ],
      "metadata": {
        "id": "SPP2yV9N9AHv"
      },
      "execution_count": null,
      "outputs": []
    },
    {
      "cell_type": "code",
      "source": [
        "######################################## \n",
        "##   Resultado teste de normalidade:\n",
        "##   Rejeita-se Ho | Os dados não seguem a distribuição normal \n",
        "##   Devido à isso, deve-se utilizar o teste de correlação de Spearman\n",
        "#########################################"
      ],
      "metadata": {
        "id": "vnOW_16WKSC6"
      },
      "execution_count": null,
      "outputs": []
    },
    {
      "cell_type": "code",
      "source": [
        "######################################################################################################"
      ],
      "metadata": {
        "id": "6Zuiu32tKNy5"
      },
      "execution_count": null,
      "outputs": []
    },
    {
      "cell_type": "code",
      "source": [
        "## Inicio da Análise Exploratória ~~ DADOS METEOROLÓGICOS MENSAIS ##\n",
        "\n",
        "  # - Correlação dados meteorológicos mensais & Produtividade (kg/ha)\n",
        "    # -- Para executar essa correlação foram utilizados os dados meteorológicos de 2011-2020;\n",
        "    # -- A produtividade avaliada corresponde a safra atual (n) e a safra seguinte (n+1)\n",
        "\n",
        "# Leitura dos dados meteorológicos\n",
        "BD_clima_EN <- read_excel('BD_clima_2011_2020_EN.xlsx')\n",
        "# Head dos dados meteorológicos\n",
        "head(BD_clima_EN)\n"
      ],
      "metadata": {
        "id": "b6OeLpQoKPqh"
      },
      "execution_count": null,
      "outputs": []
    },
    {
      "cell_type": "code",
      "source": [
        "# Leitura dos dados de produtividade\n",
        "BD_prod_EN <- read_excel('BD_producao_cultivar_EN.xlsx')\n",
        "# Head dos dados de produtividade\n",
        "head(BD_prod_EN)"
      ],
      "metadata": {
        "id": "FNU6mK0SAlFy"
      },
      "execution_count": null,
      "outputs": []
    },
    {
      "cell_type": "code",
      "source": [
        "# Organizar os dados meteorológicos diários em acumulados de dados mensais \n",
        "\n",
        "  #criar coluna mês/ano\n",
        "BD_clima_EN$year_month <- floor_date(BD_clima_EN$Date, \n",
        "                                  \"month\")\n",
        "#criar uma nova planilha com os dados agregados\n",
        "dados_climaticos_mensais <- BD_clima_EN %>%\n",
        "  group_by(year_month) %>%\n",
        "  dplyr::summarize(Tmax = mean(Tmax), Tmin = mean(Tmin), Tmean = mean(Tmean),\n",
        "                    SRad = mean(SRad), Precip = sum(Precip), GDD = sum(GDD),\n",
        "                    ET = mean(ET), Chill_hours = sum(Chill_hours)) %>%\n",
        "                    as.data.frame()"
      ],
      "metadata": {
        "id": "jl65GLAQC_db"
      },
      "execution_count": null,
      "outputs": []
    },
    {
      "cell_type": "code",
      "source": [
        "# unir dataframe dados meteorológicos mensais + dataframe produtividade\n",
        "dados_clima_prod <- cbind(dados_climaticos_mensais, BD_prod_EN)\n",
        "#dados_clima_prod\n",
        "\n",
        "#selação das variáveis que efetivamente serão utilizadas (~exclusão das variáveis que não possuem utilidade)\n",
        "dados_clima_prod <- select(dados_clima_prod, -year_month, -Date)"
      ],
      "metadata": {
        "id": "ezN-zSdZD3a8"
      },
      "execution_count": null,
      "outputs": []
    },
    {
      "cell_type": "code",
      "source": [
        "#visualizar planilha\n",
        "dados_clima_prod"
      ],
      "metadata": {
        "id": "oijO-pb1EQ3n"
      },
      "execution_count": null,
      "outputs": []
    },
    {
      "cell_type": "code",
      "source": [
        "#verificar NAs\n",
        "is.na(dados_clima_prod)%>% table\n",
        "#dados_bind <-na.omit(dados_bind)"
      ],
      "metadata": {
        "id": "X2gyyQdcEb6u"
      },
      "execution_count": null,
      "outputs": []
    },
    {
      "cell_type": "code",
      "source": [
        "#executar Correlação\n",
        "  #pacote 'cor' e ggcorrplot; método 'spearman'\n",
        "\n",
        "prod_clima_correlacao = cor(dados_clima_prod, method=\"spearman\")\n",
        "\n",
        "#plot grafico de correlação \n",
        "prod_clima_correlacao_grafico <- ggcorrplot(\n",
        "                                            prod_clima_correlacao, \n",
        "                                            hc.order= TRUE,\n",
        "                                            type = \"lower\",\n",
        "                                            lab=TRUE,\n",
        "                                            )\n",
        "\n",
        "#visualizar resultado gráfico \n",
        "prod_clima_correlacao_grafico"
      ],
      "metadata": {
        "id": "9WEExWo_EeQJ"
      },
      "execution_count": null,
      "outputs": []
    },
    {
      "cell_type": "code",
      "source": [
        "# Correlações rankeadas conforme o nível de significância \n",
        "  # Negative correlations are represented in red and positive correlations in blue.\n",
        "  # pacote 'lares'\n",
        "\n",
        "corr_cross(dados_clima_prod, # name of dataset\n",
        "  method = \"spearman\",\n",
        "  max_pvalue = 0.05, # display only significant correlations (at 5% level)\n",
        "  top = 30 # display top 30 couples of variables (by correlation coefficient)\n",
        ")"
      ],
      "metadata": {
        "id": "VQl5iasKE2Rj"
      },
      "execution_count": null,
      "outputs": []
    },
    {
      "cell_type": "code",
      "source": [
        "###############################################################################"
      ],
      "metadata": {
        "id": "aIc0dtRNf33T"
      },
      "execution_count": null,
      "outputs": []
    },
    {
      "cell_type": "code",
      "source": [
        "## Continuação da Análise Exploratória ~~ DADOS METEOROLÓGICOS MENSAIS ##\n",
        "\n",
        "  # - Correlação dados meteorológicos mensais & Início da floração \n",
        "    # -- Para executar essa correlação foram utilizados os dados meteorológicos de 2011-2020;\n",
        "    # -- O início da floração foi avaliada com relação à safra atual (n) e a safra seguinte (n+1)\n",
        "\n",
        "# Leitura dos dados meteorológicos\n",
        "  #BD_clima_EN <- read_excel('BD_clima_2011_2020_EN.xlsx')\n",
        "# Head dos dados meteorológicos\n",
        " #head(BD_clima_EN)\n"
      ],
      "metadata": {
        "id": "6IgYJqiTJWn1"
      },
      "execution_count": null,
      "outputs": []
    },
    {
      "cell_type": "code",
      "source": [
        "# Leitura dos dados de início da floração \n",
        "  # As datas de início da floração estão apresentadas em dias julianos \n",
        "dados_inicio_flor <- read_excel(\"BD_fenologia_cultivar2_ENG.xlsx\")\n",
        "\n",
        "# Head dos dados de início da floração \n",
        "head(dados_inicio_flor)"
      ],
      "metadata": {
        "id": "PPHoHAl2KVzB"
      },
      "execution_count": null,
      "outputs": []
    },
    {
      "cell_type": "code",
      "source": [
        "# unir dataframe dos dados climaticos mensais + dataframe dos dados de inicio da floração \n",
        "dados_clima_flor <- cbind(dados_climaticos_mensais, dados_inicio_flor)\n",
        "\n",
        "#selação das variáveis que efetivamente serão utilizadas (~exclusão das variáveis que não serão)\n",
        "dados_clima_flor <- select(dados_clima_flor, -year_month, -Date, -FB_GALA, -Next_FB_GALA, -FB_FUJI, -Next_FB_FUJI)\n",
        "#dados_clima_flor"
      ],
      "metadata": {
        "id": "nBJYwb7vSUlt"
      },
      "execution_count": null,
      "outputs": []
    },
    {
      "cell_type": "code",
      "source": [
        "#verificar NAs\n",
        "is.na(dados_clima_flor)%>% table\n",
        "#dados_bind <-na.omit(dados_bind)"
      ],
      "metadata": {
        "id": "wdbXaELiTDnv"
      },
      "execution_count": null,
      "outputs": []
    },
    {
      "cell_type": "code",
      "source": [
        "# Executar Correlação entre dados meteorológicos mensais e as datas de início de floração (para a cultivar Fuji e Gala)\n",
        "  # Pacote 'ggcorrplot'\n",
        "flor_clima_correlacao = cor(dados_clima_flor, method=\"spearman\")\n",
        "\n",
        "#plot grafico\n",
        "flor_clima_correlacao_grafico <- ggcorrplot(\n",
        "                                            flor_clima_correlacao, \n",
        "                                            hc.order= TRUE,\n",
        "                                            type = \"lower\",\n",
        "                                            lab=TRUE,\n",
        "                                             )\n",
        "\n",
        "# visualizar gráfico \n",
        "flor_clima_correlacao_grafico"
      ],
      "metadata": {
        "id": "2p_C9aB-TE70"
      },
      "execution_count": null,
      "outputs": []
    },
    {
      "cell_type": "code",
      "source": [
        "# Verificar correlações rankeadas; considerando P<0.05\n",
        "corr_cross(dados_clima_flor, # name of dataset\n",
        "  method=\"spearman\",\n",
        "  max_pvalue = 0.05, # display only significant correlations (at 5% level)\n",
        "  top = 60 # display top 60 couples of variables (by correlation coefficient)\n",
        ")"
      ],
      "metadata": {
        "id": "46JmNmwJe4v5"
      },
      "execution_count": null,
      "outputs": []
    },
    {
      "cell_type": "code",
      "source": [
        "###############################################################################"
      ],
      "metadata": {
        "id": "wn9FE8vkf62Q"
      },
      "execution_count": null,
      "outputs": []
    },
    {
      "cell_type": "code",
      "source": [
        "## Continuação da Análise Exploratória ~~ DADOS METEOROLÓGICOS MENSAIS ##\n",
        "\n",
        "  # - Correlação dados meteorológicos mensais & Plena floração \n",
        "    # -- Para executar essa correlação foram utilizados os dados meteorológicos de 2011-2020;\n",
        "    # -- A Plena floração foi avaliada com relação à safra atual (n) e a safra seguinte (n+1)\n",
        "\n",
        "# Leitura dos dados meteorológicos\n",
        "  #BD_clima_EN <- read_excel('BD_clima_2011_2020_EN.xlsx')\n",
        "# Head dos dados meteorológicos\n",
        " #head(BD_clima_EN)"
      ],
      "metadata": {
        "id": "UUqbEDXYfqUp"
      },
      "execution_count": null,
      "outputs": []
    },
    {
      "cell_type": "code",
      "source": [
        "# Leitura dos dados de Plena floração \n",
        "  # As datas de Plena floração estão apresentadas em dias julianos \n",
        "dados_plena_flor <- read_excel(\"BD_fenologia_cultivar2_ENG.xlsx\")\n",
        "\n",
        "# Head dos dados de início da floração \n",
        "head(dados_plena_flor)"
      ],
      "metadata": {
        "id": "1xFr3p-5f9Su"
      },
      "execution_count": null,
      "outputs": []
    },
    {
      "cell_type": "code",
      "source": [
        "# unir dataframe dados meteorológicos mensais + dataframe fenologia -> plena floração \n",
        "dados_clima_PF <- cbind(dados_climaticos_mensais, dados_plena_flor)\n",
        "#dados_clima_prod\n",
        "\n",
        "#selação das variáveis que efetivamente serão utilizadas; apenas relacionadas à plena floração (~exclusão das variáveis que não serão utilizadas)\n",
        "dados_clima_PF <- select(dados_clima_PF, -year_month, -Date, -Flower_GALA, -Next_Flower_GALA, -Flower_FUJI, -Next_Flower_FUJI)\n",
        "\n",
        "#visualizar o df\n",
        "head(dados_clima_PF)"
      ],
      "metadata": {
        "id": "WuYkzvibi6Z9"
      },
      "execution_count": null,
      "outputs": []
    },
    {
      "cell_type": "code",
      "source": [
        "#verificar NAs\n",
        "is.na(dados_clima_PF)%>% table\n",
        "#dados_bind <-na.omit(dados_bind)"
      ],
      "metadata": {
        "id": "mM0QGvrjj33G"
      },
      "execution_count": null,
      "outputs": []
    },
    {
      "cell_type": "code",
      "source": [
        "# Executar Correlação entre dados meteorológicos mensais e datas de plena floração\n",
        "\n",
        "PF_correlacao = cor(dados_clima_PF, method=\"spearman\")\n",
        "\n",
        "#plot grafico\n",
        "PF_correlacao_grafico <- ggcorrplot(\n",
        "                                     PF_correlacao, \n",
        "                                     hc.order= TRUE,\n",
        "                                     type = \"lower\",\n",
        "                                     lab=TRUE,\n",
        "                                     )\n",
        "\n",
        "# Visualizar o gráfico \n",
        "PF_correlacao_grafico"
      ],
      "metadata": {
        "id": "TerT7dXYj7xn"
      },
      "execution_count": null,
      "outputs": []
    },
    {
      "cell_type": "code",
      "source": [
        "# Verificar correlações rankeadas; p<0.05\n",
        "\n",
        "corr_cross(dados_clima_PF, # name of dataset\n",
        "  method=\"spearman\",\n",
        "  max_pvalue = 0.05, # display only significant correlations (at 5% level)\n",
        "  top = 60 # display top 60 couples of variables (by correlation coefficient)\n",
        ")\n",
        "\n",
        "#apenas 23 correlações foram identificadas"
      ],
      "metadata": {
        "id": "h_rMncRTkUqF"
      },
      "execution_count": null,
      "outputs": []
    },
    {
      "cell_type": "code",
      "source": [
        "################################################################################"
      ],
      "metadata": {
        "id": "843Pykj14mCX"
      },
      "execution_count": null,
      "outputs": []
    },
    {
      "cell_type": "code",
      "source": [
        "## Continuação da Análise Exploratória ~~ DADOS METEOROLÓGICOS SAZONAIS ##\n",
        "    # a partir de agora, as análises de correlação foram realizadas considerando os dados meteorológicos agregados por estações climáticas \n",
        "\n",
        "  # - Correlação dados meteorológicos sazonais & Produtividade (kg/ha) \n",
        "    # -- Para executar essa correlação foram utilizados os dados meteorológicos de 2011-2020 acumulados em função das estações climáticas;\n",
        "    # -- A Produtividade foi avaliada com relação à safra atual (n) e a safra seguinte (n+1)\n",
        "\n",
        "# Leitura dos dados meteorológicos sazonais & dados de produtividade (variável dependente)\n",
        "  BD_season_prod_EN <- read_excel('BD_estacoesclima_producao_ENG.xlsx')\n",
        "# Head dos dados meteorológicos\n",
        " head(BD_season_prod_EN)"
      ],
      "metadata": {
        "id": "VKg9htNqkv_1"
      },
      "execution_count": null,
      "outputs": []
    },
    {
      "cell_type": "code",
      "source": [
        "# Ajuste da planilha:\n",
        "  # Retirada da coluna 'year' (não é necessária para as correlações) e retirada da coluna 'Chill_Hours_summer' (só contém zero, então não é necessária)\n",
        "\n",
        "# Duplicar arquivo e retirar as variáveis que não serão utilizadas\n",
        "dados_season_2 <- select(BD_season_prod_EN, -Year, -Chill_Hours_summer)\n"
      ],
      "metadata": {
        "id": "ekknvRIMmtLH"
      },
      "execution_count": null,
      "outputs": []
    },
    {
      "cell_type": "code",
      "source": [
        "#execução da correlação\n",
        "\n",
        "correlacao_season = cor(dados_season_2, method = \"spearman\")\n",
        "\n",
        "#plot do gráfico \n",
        "\n",
        "ggcorrplot(\n",
        "  correlacao_season, \n",
        "  hc.order= TRUE,\n",
        " type = \"lower\",\n",
        "  #lab=TRUE,\n",
        ") +\n",
        "ggplot2::theme(\n",
        "          axis.text.x = element_text(angle = 90))"
      ],
      "metadata": {
        "id": "T9UtI_FBELy1"
      },
      "execution_count": null,
      "outputs": []
    },
    {
      "cell_type": "code",
      "source": [
        "#visualizar tabela de correlação\n",
        "correlacao_season"
      ],
      "metadata": {
        "id": "BKehRZziEeTc"
      },
      "execution_count": null,
      "outputs": []
    },
    {
      "cell_type": "code",
      "source": [
        "#Gráfico para apresentar as variáveis que tem maior correlação \n",
        "  #corr_var() function to focus on the correlation of one variable against all others, and return the highest ones in a plot:\n",
        "\n",
        "plotGALA <- corr_var(dados_season_2, # name of dataset\n",
        "  Yield_GALA, # name of variable to focus on\n",
        "  method = \"spearman\",\n",
        "  top = 10 # display top 10 correlations\n",
        ")\n",
        "\n",
        "plot_prox_GALA <- corr_var(dados_season_2, # name of dataset\n",
        "  NextYield_GALA, # name of variable to focus on\n",
        "  method = \"spearman\",\n",
        "  top = 10 # display top 10 correlations\n",
        ")\n",
        "\n",
        "plotFUJI <- corr_var(dados_season_2, # name of dataset\n",
        "            Yield_FUJI, # name of variable to focus on\n",
        "           method = \"spearman\",\n",
        "           top = 10 # display top 10 correlations\n",
        "           )\n",
        "\n",
        "plot_prox_FUJI <- corr_var(dados_season_2, # name of dataset\n",
        "  NextYield_FUJI, # name of variable to focus on\n",
        "  method = \"spearman\",\n",
        "  top = 10 # display top 10 correlations\n",
        ")"
      ],
      "metadata": {
        "id": "wXL8hGiIE7b3"
      },
      "execution_count": null,
      "outputs": []
    },
    {
      "cell_type": "code",
      "source": [
        "# Visualizar gráficos Produtividade - Gala\n",
        "plotGALA\n",
        "plot_prox_GALA"
      ],
      "metadata": {
        "id": "Hb1RSFlNGiXY"
      },
      "execution_count": null,
      "outputs": []
    },
    {
      "cell_type": "code",
      "source": [
        "# Visualizar gráficos Produtividade - Fuji\n",
        "plotFUJI\n",
        "plot_prox_FUJI"
      ],
      "metadata": {
        "id": "5D9PF1yMHgHv"
      },
      "execution_count": null,
      "outputs": []
    },
    {
      "cell_type": "code",
      "source": [
        "###############################################################################"
      ],
      "metadata": {
        "id": "gBnyB5lqHmov"
      },
      "execution_count": null,
      "outputs": []
    },
    {
      "cell_type": "code",
      "source": [
        "## Continuação da Análise Exploratória ~~ DADOS METEOROLÓGICOS SAZONAIS ##\n",
        "    \n",
        "  # - Correlação dados meteorológicos sazonais & Início da Floração \n",
        "    # -- Para executar essa correlação foram utilizados os dados meteorológicos de 2011-2020;\n",
        "    # -- O Início da floração foi avaliada com relação à safra atual (n) e a safra seguinte (n+1)\n",
        "\n",
        "# Leitura dos dados meteorológicos\n",
        "BD_season_flor_EN <- read_excel('BD_estacoesclima_fenologia2_EN.xlsx')\n",
        "# Head dos dados meteorológicos\n",
        "head(BD_season_flor_EN)"
      ],
      "metadata": {
        "id": "vh8XVZNzmtm2"
      },
      "execution_count": null,
      "outputs": []
    },
    {
      "cell_type": "code",
      "source": [
        "#remover variáveis que não serão utilizadas\n",
        "dados_season_fenologica_2 <- select(BD_season_flor_EN, -Chill_Hours_summer, -Year)"
      ],
      "metadata": {
        "id": "ngzyFVPjLPO5"
      },
      "execution_count": null,
      "outputs": []
    },
    {
      "cell_type": "code",
      "source": [
        "#execução da correlação\n",
        "\n",
        "correlacao_season_fen = cor(dados_season_fenologica_2, method = \"spearman\")\n",
        "\n",
        "#plot do gráfico \n",
        "\n",
        "ggcorrplot(\n",
        "  correlacao_season_fen, \n",
        "  hc.order= TRUE,\n",
        " type = \"lower\",\n",
        "  #lab=TRUE,\n",
        ") +\n",
        "ggplot2::theme(\n",
        "          axis.text.x = element_text(angle = 90))"
      ],
      "metadata": {
        "id": "uHGzzFzlMxNQ"
      },
      "execution_count": null,
      "outputs": []
    },
    {
      "cell_type": "code",
      "source": [
        "##############################################################################################\n",
        "# Etapa de visualização dos resultados da correlação entre Dados sazonais & Início de floração"
      ],
      "metadata": {
        "id": "hc173lfvXX15"
      },
      "execution_count": null,
      "outputs": []
    },
    {
      "cell_type": "code",
      "source": [
        "corr_cross(dados_season_fenologica_2, # name of dataset\n",
        "  method = \"spearman\",\n",
        "  max_pvalue = 0.05, # display only significant correlations (at 5% level)\n",
        "  top = 40 # display top 10 couples of variables (by correlation coefficient)\n",
        ")"
      ],
      "metadata": {
        "id": "GFEfvODSM3iS"
      },
      "execution_count": null,
      "outputs": []
    },
    {
      "cell_type": "code",
      "source": [
        "#Gráfico para apresentar as variáveis que tem maior correlação \n",
        "  #corr_var() function to focus on the correlation of one variable against all others, and return the highest ones in a plot:\n",
        "\n",
        "plotFlorGALA <- corr_var(dados_season_fenologica_2, # name of dataset\n",
        "  Flower_GALA, # name of variable to focus on\n",
        "  method = \"spearman\",\n",
        "  top = 5 # display top 5 correlations\n",
        ")\n",
        "\n",
        "plot_proxFlor_GALA <- corr_var(dados_season_fenologica_2, # name of dataset\n",
        "  Next_Flower_GALA, # name of variable to focus on\n",
        "  method = \"spearman\",\n",
        "  top = 5 # display top 5 correlations\n",
        ")\n",
        "\n",
        "plotFlorFUJI <- corr_var(dados_season_fenologica_2, # name of dataset\n",
        "            Flower_FUJI, # name of variable to focus on\n",
        "           method = \"spearman\",\n",
        "           top = 5 # display top 5 correlations\n",
        "           )\n",
        "\n",
        "plot_proxFlor_FUJI <- corr_var(dados_season_fenologica_2, # name of dataset\n",
        "  Next_Flower_FUJI, # name of variable to focus on\n",
        "  method = \"spearman\",\n",
        "  top = 5 # display top 5 correlations\n",
        ")"
      ],
      "metadata": {
        "id": "t7yTidSwNDOQ"
      },
      "execution_count": null,
      "outputs": []
    },
    {
      "cell_type": "code",
      "source": [
        "# Visualizar gráficos Início da floração - Gala\n",
        "plotFlorGALA\n",
        "plot_proxFlor_GALA"
      ],
      "metadata": {
        "id": "IEm93-WKNrmj"
      },
      "execution_count": null,
      "outputs": []
    },
    {
      "cell_type": "code",
      "source": [
        "# Visualizar gráficos Início da floração - Fuji\n",
        "plotFlorFUJI\n",
        "plot_proxFlor_FUJI "
      ],
      "metadata": {
        "id": "rHxmt72fRHoe"
      },
      "execution_count": null,
      "outputs": []
    },
    {
      "cell_type": "code",
      "source": [
        "################################################################################"
      ],
      "metadata": {
        "id": "NC-hIEpLNrYN"
      },
      "execution_count": null,
      "outputs": []
    },
    {
      "cell_type": "code",
      "source": [
        "## Continuação da Análise Exploratória ~~ DADOS METEOROLÓGICOS SAZONAIS ##\n",
        "    # a partir de agora, as análises de correlação foram realizadas considerando os dados meteorológicos agregados por estações climáticas \n",
        "\n",
        "  # - Correlação dados meteorológicos sazonais & Plena Floração\n",
        "    # -- Para executar essa correlação foram utilizados os dados meteorológicos de 2011-2020;\n",
        "    # -- A Plena floração foi avaliada com relação à safra atual (n) e a safra seguinte (n+1)\n",
        "\n",
        "# Leitura dos dados meteorológicos sazonais e de Plena floração\n",
        "dados_season_plenaFlor <- read_excel(\"BD_estacoesclima_fenologia_plenaflor_EN.xlsx\")\n",
        "# Head dos dados meteorológicos\n",
        "head(dados_season_plenaFlor)"
      ],
      "metadata": {
        "id": "Ygs1ifoLm0Ut"
      },
      "execution_count": null,
      "outputs": []
    },
    {
      "cell_type": "code",
      "source": [
        "df_season_plenaFlor <- select(dados_season_plenaFlor, -Chill_Hours_summer, -Year)"
      ],
      "metadata": {
        "id": "UWl7bisMRTG8"
      },
      "execution_count": null,
      "outputs": []
    },
    {
      "cell_type": "code",
      "source": [
        "#execução da correlação\n",
        "\n",
        "correlacao_season_PF = cor(df_season_plenaFlor, method = \"spearman\")\n",
        "\n",
        "#plot do gráfico \n",
        "\n",
        "ggcorrplot(\n",
        "  correlacao_season_PF, \n",
        "  hc.order= TRUE,\n",
        " type = \"lower\",\n",
        "  #lab=TRUE,\n",
        ") +\n",
        "ggplot2::theme(\n",
        "          axis.text.x = element_text(angle = 90))"
      ],
      "metadata": {
        "id": "8iVG_qBLWvTD"
      },
      "execution_count": null,
      "outputs": []
    },
    {
      "cell_type": "code",
      "source": [
        "##########################################################################################\n",
        "# Etapa de visualização dos resultados da correlação entre dados sazonais & Plena floração"
      ],
      "metadata": {
        "id": "agcgIc3FXkPn"
      },
      "execution_count": null,
      "outputs": []
    },
    {
      "cell_type": "code",
      "source": [
        "#Function to compute all correlations and return the highest and significant ones in a plot:\n",
        "#Negative correlations are represented in red and positive correlations in blue.\n",
        "\n",
        "corr_cross(df_season_plenaFlor, # name of dataset\n",
        "  method =\"spearman\",\n",
        "  max_pvalue = 0.05, # display only significant correlations (at 5% level)\n",
        "  top = 50 # display top 10 couples of variables (by correlation coefficient)\n",
        ")"
      ],
      "metadata": {
        "id": "4Xr-jLN3W9F_"
      },
      "execution_count": null,
      "outputs": []
    },
    {
      "cell_type": "code",
      "source": [
        "#Gráfico para apresentar as variáveis que tem maior correlação \n",
        "  #corr_var() function to focus on the correlation of one variable against all others, and return the highest ones in a plot:\n",
        "\n",
        "plotGALA_FB <- corr_var(df_season_plenaFlor, # name of dataset\n",
        "  FB_GALA, # name of variable to focus on\n",
        "  method = \"spearman\",\n",
        "  top = 5 # display top 5 correlations\n",
        ")\n",
        "\n",
        "plot_prox_GALA_FB <- corr_var(df_season_plenaFlor, # name of dataset\n",
        "  Next_FB_GALA, # name of variable to focus on\n",
        "  method = \"spearman\",\n",
        "  top = 5 # display top 5 correlations\n",
        ")\n",
        "\n",
        "plotFUJI_FB <- corr_var(df_season_plenaFlor, # name of dataset\n",
        "            FB_FUJI, # name of variable to focus on\n",
        "           method = \"spearman\",\n",
        "           top = 5 # display top 5 correlations\n",
        "           )\n",
        "\n",
        "plot_prox_FUJI_FB <- corr_var(df_season_plenaFlor, # name of dataset\n",
        "  Next_FB_FUJI, # name of variable to focus on\n",
        "  method = \"spearman\",\n",
        "  top = 5 # display top 5 correlations\n",
        ")"
      ],
      "metadata": {
        "id": "C5WwosrZXvDe"
      },
      "execution_count": null,
      "outputs": []
    },
    {
      "cell_type": "code",
      "source": [
        "#Visualizar gráficos Plena Floração - Gala\n",
        "plotGALA_FB \n",
        "plot_prox_GALA_FB"
      ],
      "metadata": {
        "id": "gDgFl5t_YCmn"
      },
      "execution_count": null,
      "outputs": []
    },
    {
      "cell_type": "code",
      "source": [
        "#Visualizar gráficos Plena Floração - Fuji\n",
        "plotFUJI_FB\n",
        "plot_prox_FUJI_FB"
      ],
      "metadata": {
        "id": "4PnKfB4VYOJQ"
      },
      "execution_count": null,
      "outputs": []
    }
  ]
}